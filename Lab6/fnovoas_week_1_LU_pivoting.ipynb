{
  "cells": [
    {
      "cell_type": "markdown",
      "metadata": {},
      "source": [
        "<a href=\"https://colab.research.google.com/github/fnovoas/MetNumUN2024I/blob/main/Lab6/fnovoas_week_1_LU_pivoting.ipynb\" target=\"_parent\"><img src=\"https://colab.research.google.com/assets/colab-badge.svg\" alt=\"Open In Colab\"/></a>"
      ]
    },
    {
      "cell_type": "markdown",
      "metadata": {
        "id": "OBc93xD1zMDD"
      },
      "source": [
        "# I. $LU$ factorization of a square matrix\n",
        "When we premultply $A$ by lower triangular elemetary matrices $\\Lambda_j$ it is trasfrommed in an  upper triangular matrix $U$\n",
        "\n",
        "$$  \\Lambda_{n-1}  \\ldots\\Lambda_2  \\Lambda_1 A  = U$$\n",
        "\n",
        "$$  A  = (\\Lambda_{n-1}  \\ldots\\Lambda_2  \\Lambda_2 )^{-1} U$$\n",
        "\n",
        "The inverse of a product of matrices is the revesre product of inverses\n",
        "$$  A  = (\\Lambda_1^{-1}  \\Lambda_2^{-1} \\ldots  \\Lambda_{n-1}^{-1}) U$$\n",
        "\n",
        "and inverse of a Lower Triangular Elemetary Matrix is minus the matrix $\\Lambda_j^{-1} = - \\Lambda_j$, so\n",
        "\n",
        "$$ A  =  (-\\Lambda_1) (-\\Lambda_2) \\ldots   (-\\Lambda_{n-1})  U$$\n",
        "\n",
        "So the $LU$ column pivot factorization is\n",
        "$$  A  = L U$$\n",
        "with\n",
        "$$ U = \\Lambda_{n-1}  \\ldots\\Lambda_2  \\Lambda_1 A  $$\n",
        "an upper triangular matrix\n",
        "$$ L  =  \\Lambda_1^{-1}  \\Lambda_2^{-1} \\ldots  \\Lambda_{n-1}^{-1} m = (-\\Lambda_1) (-\\Lambda_2) \\ldots   (-\\Lambda_{n-1})  $$\n",
        "an lower triangular matrix."
      ]
    },
    {
      "cell_type": "markdown",
      "metadata": {
        "id": "dmO1wEA5zVVS"
      },
      "source": [
        "Consider a simple naive implementation of the LU decomposition.\n",
        "\n",
        "Note that we're using the `numpy` arrays to represent matrices [do **not** use `np.matrix`]."
      ]
    },
    {
      "cell_type": "code",
      "execution_count": null,
      "metadata": {
        "id": "0jzv0-yyzDM2"
      },
      "outputs": [],
      "source": [
        "import numpy as np\n",
        "\n",
        "def diy_lu(a):\n",
        "    \"\"\"Construct the LU decomposition of the input matrix.\n",
        "\n",
        "    Naive LU decomposition: work column by column, accumulate elementary triangular matrices.\n",
        "    No pivoting.\n",
        "    \"\"\"\n",
        "    N = a.shape[0]\n",
        "\n",
        "    u = a.copy()\n",
        "    L = np.eye(N)\n",
        "    for j in range(N-1):\n",
        "        lam = np.eye(N)\n",
        "        gamma = u[j+1:, j] / u[j, j]\n",
        "        lam[j+1:, j] = -gamma\n",
        "        u = lam @ u\n",
        "        lam[j+1:, j] = gamma\n",
        "        L = L @ lam\n",
        "    return L, u"
      ]
    },
    {
      "cell_type": "code",
      "execution_count": null,
      "metadata": {
        "colab": {
          "base_uri": "https://localhost:8080/"
        },
        "id": "yW-cZc_qzd0Z",
        "outputId": "f9229c95-c607-4c5e-cb95-e3be4b01ad33"
      },
      "outputs": [
        {
          "data": {
            "text/plain": [
              "6"
            ]
          },
          "execution_count": 3,
          "metadata": {},
          "output_type": "execute_result"
        }
      ],
      "source": [
        "# Now, generate a full rank matrix and test the naive implementation\n",
        "\n",
        "import numpy as np\n",
        "\n",
        "N = 6\n",
        "A = np.zeros((N, N), dtype=float)\n",
        "for i in range(N):\n",
        "    for j in range(N):\n",
        "        A[i, j] = 3. / (0.6*i*j + 1)\n",
        "\n",
        "np.linalg.matrix_rank(A)"
      ]
    },
    {
      "cell_type": "code",
      "execution_count": null,
      "metadata": {
        "colab": {
          "base_uri": "https://localhost:8080/"
        },
        "id": "MJs7LATHzhZq",
        "outputId": "96f832d2-1e0f-449d-df39-328d9673f3a0"
      },
      "outputs": [
        {
          "data": {
            "text/plain": [
              "array([[3.   , 3.   , 3.   , 3.   , 3.   , 3.   ],\n",
              "       [3.   , 1.875, 1.364, 1.071, 0.882, 0.75 ],\n",
              "       [3.   , 1.364, 0.882, 0.652, 0.517, 0.429],\n",
              "       [3.   , 1.071, 0.652, 0.469, 0.366, 0.3  ],\n",
              "       [3.   , 0.882, 0.517, 0.366, 0.283, 0.231],\n",
              "       [3.   , 0.75 , 0.429, 0.3  , 0.231, 0.188]])"
            ]
          },
          "execution_count": 4,
          "metadata": {},
          "output_type": "execute_result"
        }
      ],
      "source": [
        "np.round(A,3)"
      ]
    },
    {
      "cell_type": "code",
      "execution_count": null,
      "metadata": {
        "colab": {
          "base_uri": "https://localhost:8080/"
        },
        "id": "Y21gOqQ8zsqp",
        "outputId": "0e2e63c3-18a7-4e5a-a8ff-31fc7503967b"
      },
      "outputs": [
        {
          "name": "stdout",
          "output_type": "stream",
          "text": [
            "[[1.    0.    0.    0.    0.    0.   ]\n",
            " [1.    1.    0.    0.    0.    0.   ]\n",
            " [1.    1.455 1.    0.    0.    0.   ]\n",
            " [1.    1.714 1.742 1.    0.    0.   ]\n",
            " [1.    1.882 2.276 2.039 1.    0.   ]\n",
            " [1.    2.    2.671 2.944 2.354 1.   ]] \n",
            "\n",
            "[[ 3.000e+00  3.000e+00  3.000e+00  3.000e+00  3.000e+00  3.000e+00]\n",
            " [ 0.000e+00 -1.125e+00 -1.636e+00 -1.929e+00 -2.118e+00 -2.250e+00]\n",
            " [ 0.000e+00  0.000e+00  2.630e-01  4.570e-01  5.970e-01  7.010e-01]\n",
            " [ 0.000e+00  0.000e+00  0.000e+00 -2.200e-02 -4.500e-02 -6.500e-02]\n",
            " [ 0.000e+00 -0.000e+00  0.000e+00  0.000e+00  1.000e-03  2.000e-03]\n",
            " [ 0.000e+00  0.000e+00  0.000e+00 -0.000e+00  0.000e+00 -0.000e+00]] \n",
            "\n",
            "[[ 0.  0.  0.  0.  0.  0.]\n",
            " [ 0.  0.  0.  0.  0.  0.]\n",
            " [ 0.  0. -0.  0.  0. -0.]\n",
            " [ 0.  0.  0. -0. -0.  0.]\n",
            " [ 0.  0.  0. -0. -0.  0.]\n",
            " [ 0.  0. -0. -0.  0.  0.]]\n"
          ]
        }
      ],
      "source": [
        "L, U = diy_lu(A)\n",
        "\n",
        "print(np.round(L,3), \"\\n\")\n",
        "print(np.round(U,3), \"\\n\")\n",
        "\n",
        "# Quick sanity check: L times U must equal the original matrix, up to floating-point errors.\n",
        "print(np.round(L@U - A,3))"
      ]
    },
    {
      "cell_type": "markdown",
      "metadata": {
        "id": "oSvHYsWuza06"
      },
      "source": [
        "# II. The need for pivoting"
      ]
    },
    {
      "cell_type": "markdown",
      "metadata": {
        "id": "B6z9Gausz4lS"
      },
      "source": [
        "Let's tweak the matrix a little bit, we only change a single element:"
      ]
    },
    {
      "cell_type": "code",
      "execution_count": null,
      "metadata": {
        "id": "tkGx4QSTzxOo"
      },
      "outputs": [],
      "source": [
        "A1 = A.copy()\n",
        "A1[1, 1] = 3"
      ]
    },
    {
      "cell_type": "code",
      "execution_count": null,
      "metadata": {
        "colab": {
          "base_uri": "https://localhost:8080/"
        },
        "id": "TRC3nCQCkISv",
        "outputId": "625dd05d-7a88-4732-d333-ab8e79cdf3f4"
      },
      "outputs": [
        {
          "data": {
            "text/plain": [
              "array([[3.   , 3.   , 3.   , 3.   , 3.   , 3.   ],\n",
              "       [3.   , 3.   , 1.364, 1.071, 0.882, 0.75 ],\n",
              "       [3.   , 1.364, 0.882, 0.652, 0.517, 0.429],\n",
              "       [3.   , 1.071, 0.652, 0.469, 0.366, 0.3  ],\n",
              "       [3.   , 0.882, 0.517, 0.366, 0.283, 0.231],\n",
              "       [3.   , 0.75 , 0.429, 0.3  , 0.231, 0.188]])"
            ]
          },
          "execution_count": 7,
          "metadata": {},
          "output_type": "execute_result"
        }
      ],
      "source": [
        "np.round(A1,3)"
      ]
    },
    {
      "cell_type": "code",
      "execution_count": null,
      "metadata": {
        "colab": {
          "base_uri": "https://localhost:8080/"
        },
        "id": "dotDoRQ0jT71",
        "outputId": "fa8ec577-8479-4386-f1f6-76e65b984a24"
      },
      "outputs": [
        {
          "data": {
            "text/plain": [
              "6"
            ]
          },
          "execution_count": 8,
          "metadata": {},
          "output_type": "execute_result"
        }
      ],
      "source": [
        "np.linalg.matrix_rank(A1)"
      ]
    },
    {
      "cell_type": "code",
      "execution_count": null,
      "metadata": {
        "colab": {
          "base_uri": "https://localhost:8080/"
        },
        "id": "NfvRXF3l0Czz",
        "outputId": "8c1a4cac-7e3e-446d-fa58-5eca8da6b95b"
      },
      "outputs": [
        {
          "name": "stdout",
          "output_type": "stream",
          "text": [
            "[[nan nan nan nan nan nan]\n",
            " [nan nan nan nan nan nan]\n",
            " [nan nan nan nan nan nan]\n",
            " [nan nan nan nan nan nan]\n",
            " [nan nan nan nan nan nan]\n",
            " [nan nan nan nan nan nan]] [[nan nan nan nan nan nan]\n",
            " [nan nan nan nan nan nan]\n",
            " [nan nan nan nan nan nan]\n",
            " [nan nan nan nan nan nan]\n",
            " [nan nan nan nan nan nan]\n",
            " [nan nan nan nan nan nan]]\n"
          ]
        },
        {
          "name": "stderr",
          "output_type": "stream",
          "text": [
            "/usr/local/lib/python3.7/dist-packages/ipykernel_launcher.py:15: RuntimeWarning: divide by zero encountered in true_divide\n",
            "  from ipykernel import kernelapp as app\n",
            "/usr/local/lib/python3.7/dist-packages/ipykernel_launcher.py:17: RuntimeWarning: invalid value encountered in matmul\n",
            "/usr/local/lib/python3.7/dist-packages/ipykernel_launcher.py:20: RuntimeWarning: invalid value encountered in matmul\n",
            "/usr/local/lib/python3.7/dist-packages/ipykernel_launcher.py:15: RuntimeWarning: invalid value encountered in true_divide\n",
            "  from ipykernel import kernelapp as app\n"
          ]
        }
      ],
      "source": [
        "L, U= diy_lu(A1)\n",
        "\n",
        "print(L, U)"
      ]
    },
    {
      "cell_type": "markdown",
      "metadata": {
        "id": "1wOBYHGcyIRG"
      },
      "source": [
        "The LU decomposition from scipy.linalg.lu already implements pivoting other sophisticated controls\n",
        "\n",
        "https://docs.scipy.org/doc/scipy/reference/generated/scipy.linalg.lu.html\n",
        "\n",
        "$$A = P L U$$\n",
        "\n",
        "```python\n",
        "\n",
        " P ,  L,  U  = scipy.linalg.lu(a, permute_l=False, overwrite_a=False, check_finite=True)\n",
        "\n",
        "# Returns\n",
        "# (If permute_l == False)\n",
        "# P : Permutation matrix\n",
        "# L : Lower triangular or trapezoidal matrix with unit diagonal. K = min\n",
        "# U : Upper triangular or trapezoidal matrix\n",
        "```"
      ]
    },
    {
      "cell_type": "code",
      "execution_count": null,
      "metadata": {
        "colab": {
          "base_uri": "https://localhost:8080/"
        },
        "id": "npXQN18nyHS_",
        "outputId": "09070cc9-0946-4f27-f907-53c78569ea94"
      },
      "outputs": [
        {
          "name": "stdout",
          "output_type": "stream",
          "text": [
            "P\n",
            " [[1. 0. 0. 0. 0. 0.]\n",
            " [0. 0. 1. 0. 0. 0.]\n",
            " [0. 0. 0. 1. 0. 0.]\n",
            " [0. 0. 0. 0. 1. 0.]\n",
            " [0. 0. 0. 0. 0. 1.]\n",
            " [0. 1. 0. 0. 0. 0.]] \n",
            "\n",
            "L\n",
            " [[1.         0.         0.         0.         0.         0.        ]\n",
            " [1.         1.         0.         0.         0.         0.        ]\n",
            " [1.         0.5        1.         0.         0.         0.        ]\n",
            " [1.         0.72727273 0.70588235 1.         0.         0.        ]\n",
            " [1.         0.85714286 0.40993789 0.83482143 1.         0.        ]\n",
            " [1.         0.94117647 0.17849899 0.4255677  0.78870221 1.        ]] \n",
            "\n",
            "U\n",
            " [[ 3.000e+00  3.000e+00  3.000e+00  3.000e+00  3.000e+00  3.000e+00]\n",
            " [ 0.000e+00 -2.250e+00 -2.571e+00 -2.700e+00 -2.769e+00 -2.812e+00]\n",
            " [ 0.000e+00  0.000e+00 -3.510e-01 -5.790e-01 -7.330e-01 -8.440e-01]\n",
            " [ 0.000e+00  0.000e+00  0.000e+00  2.400e-02  4.900e-02  7.000e-02]\n",
            " [ 0.000e+00  0.000e+00  0.000e+00  0.000e+00 -1.000e-03 -2.000e-03]\n",
            " [ 0.000e+00  0.000e+00  0.000e+00  0.000e+00  0.000e+00  0.000e+00]] \n",
            "\n",
            "A= P@L@U\n",
            " [[3.         3.         3.         3.         3.         3.        ]\n",
            " [3.         1.875      1.36363636 1.07142857 0.88235294 0.75      ]\n",
            " [3.         1.36363636 0.88235294 0.65217391 0.51724138 0.42857143]\n",
            " [3.         1.07142857 0.65217391 0.46875    0.36585366 0.3       ]\n",
            " [3.         0.88235294 0.51724138 0.36585366 0.28301887 0.23076923]\n",
            " [3.         0.75       0.42857143 0.3        0.23076923 0.1875    ]] \n",
            "\n",
            "A\n",
            " [[3.         3.         3.         3.         3.         3.        ]\n",
            " [3.         1.875      1.36363636 1.07142857 0.88235294 0.75      ]\n",
            " [3.         1.36363636 0.88235294 0.65217391 0.51724138 0.42857143]\n",
            " [3.         1.07142857 0.65217391 0.46875    0.36585366 0.3       ]\n",
            " [3.         0.88235294 0.51724138 0.36585366 0.28301887 0.23076923]\n",
            " [3.         0.75       0.42857143 0.3        0.23076923 0.1875    ]] \n",
            "\n"
          ]
        }
      ],
      "source": [
        "from scipy import linalg\n",
        "P ,  L,  U = linalg.lu(A)\n",
        "\n",
        "print(\"P\\n\",P, \"\\n\")\n",
        "print(\"L\\n\",L, \"\\n\")\n",
        "print(\"U\\n\",np.round(U,3), \"\\n\")\n",
        "print(\"A= P@L@U\\n\", P@L@U, \"\\n\")\n",
        "print(\"A\\n\",A, \"\\n\")\n"
      ]
    },
    {
      "cell_type": "code",
      "execution_count": null,
      "metadata": {
        "colab": {
          "base_uri": "https://localhost:8080/"
        },
        "id": "U31oKbCWzKXe",
        "outputId": "9ed449f3-f77d-44ee-e0bf-52f0eb15406b"
      },
      "outputs": [
        {
          "name": "stdout",
          "output_type": "stream",
          "text": [
            "P\n",
            " [[1. 0. 0. 0. 0. 0.]\n",
            " [0. 0. 1. 0. 0. 0.]\n",
            " [0. 0. 0. 1. 0. 0.]\n",
            " [0. 0. 0. 0. 1. 0.]\n",
            " [0. 0. 0. 0. 0. 1.]\n",
            " [0. 1. 0. 0. 0. 0.]] \n",
            "\n",
            "L\n",
            " [[ 1.          0.          0.          0.          0.          0.        ]\n",
            " [ 1.          1.          0.          0.          0.          0.        ]\n",
            " [ 1.         -0.          1.          0.          0.          0.        ]\n",
            " [ 1.          0.72727273  0.1512605   1.          0.          0.        ]\n",
            " [ 1.          0.85714286  0.08784383  0.51421669  1.          0.        ]\n",
            " [ 1.          0.94117647  0.03824978  0.2076544   0.64143198  1.        ]] \n",
            "\n",
            "U\n",
            " [[ 3.000e+00  3.000e+00  3.000e+00  3.000e+00  3.000e+00  3.000e+00]\n",
            " [ 0.000e+00 -2.250e+00 -2.571e+00 -2.700e+00 -2.769e+00 -2.812e+00]\n",
            " [ 0.000e+00  0.000e+00 -1.636e+00 -1.929e+00 -2.118e+00 -2.250e+00]\n",
            " [ 0.000e+00  0.000e+00  0.000e+00 -9.200e-02 -1.480e-01 -1.860e-01]\n",
            " [ 0.000e+00  0.000e+00  0.000e+00  0.000e+00  2.000e-03  4.000e-03]\n",
            " [ 0.000e+00  0.000e+00  0.000e+00  0.000e+00  0.000e+00 -0.000e+00]] \n",
            "\n",
            "A= P@L@U\n",
            " [[3.         3.         3.         3.         3.         3.        ]\n",
            " [3.         3.         1.36363636 1.07142857 0.88235294 0.75      ]\n",
            " [3.         1.36363636 0.88235294 0.65217391 0.51724138 0.42857143]\n",
            " [3.         1.07142857 0.65217391 0.46875    0.36585366 0.3       ]\n",
            " [3.         0.88235294 0.51724138 0.36585366 0.28301887 0.23076923]\n",
            " [3.         0.75       0.42857143 0.3        0.23076923 0.1875    ]] \n",
            "\n",
            "A\n",
            " [[3.         3.         3.         3.         3.         3.        ]\n",
            " [3.         1.875      1.36363636 1.07142857 0.88235294 0.75      ]\n",
            " [3.         1.36363636 0.88235294 0.65217391 0.51724138 0.42857143]\n",
            " [3.         1.07142857 0.65217391 0.46875    0.36585366 0.3       ]\n",
            " [3.         0.88235294 0.51724138 0.36585366 0.28301887 0.23076923]\n",
            " [3.         0.75       0.42857143 0.3        0.23076923 0.1875    ]] \n",
            "\n"
          ]
        }
      ],
      "source": [
        "P ,  L,  U = linalg.lu(A1)\n",
        "\n",
        "print(\"P\\n\",P, \"\\n\")\n",
        "print(\"L\\n\",L, \"\\n\")\n",
        "print(\"U\\n\",np.round(U,3), \"\\n\")\n",
        "print(\"A= P@L@U\\n\", P@L@U, \"\\n\")\n",
        "print(\"A\\n\",A, \"\\n\")\n"
      ]
    },
    {
      "cell_type": "markdown",
      "metadata": {
        "id": "OqWxeK450I58"
      },
      "source": [
        "### Test II.1\n",
        "\n",
        "For a naive LU decomposition to work, all leading minors of a matrix should be non-zero. Check if this requirement is satisfied for the two matrices `a` and `a1`.\n",
        "\n",
        "(20% of the grade)"
      ]
    },
    {
      "cell_type": "code",
      "execution_count": null,
      "metadata": {
        "colab": {
          "base_uri": "https://localhost:8080/"
        },
        "id": "qCf9-MUqN927",
        "outputId": "365ce1fb-bf9a-4754-f6a0-5cf2f3e52d2d"
      },
      "outputs": [
        {
          "name": "stdout",
          "output_type": "stream",
          "text": [
            "Check matrix A =\n",
            " [[3.         3.         3.         3.         3.         3.        ]\n",
            " [3.         1.875      1.36363636 1.07142857 0.88235294 0.75      ]\n",
            " [3.         1.36363636 0.88235294 0.65217391 0.51724138 0.42857143]\n",
            " [3.         1.07142857 0.65217391 0.46875    0.36585366 0.3       ]\n",
            " [3.         0.88235294 0.51724138 0.36585366 0.28301887 0.23076923]\n",
            " [3.         0.75       0.42857143 0.3        0.23076923 0.1875    ]]\n",
            "1 th leading minor of M = 3.0000000000000004\n",
            "2 th leading minor of M = -3.375\n",
            "3 th leading minor of M = -0.8859990277102598\n",
            "4 th leading minor of M = 0.019467001032005795\n",
            "5 th leading minor of M = 1.5728974209748546e-05\n",
            "6 th leading minor of M = -2.4923994636580374e-10\n",
            "determinant of A = -2.4923994636580374e-10\n",
            "Check matrix A =\n",
            " [[3.         3.         3.         3.         3.         3.        ]\n",
            " [3.         3.         1.36363636 1.07142857 0.88235294 0.75      ]\n",
            " [3.         1.36363636 0.88235294 0.65217391 0.51724138 0.42857143]\n",
            " [3.         1.07142857 0.65217391 0.46875    0.36585366 0.3       ]\n",
            " [3.         0.88235294 0.51724138 0.36585366 0.28301887 0.23076923]\n",
            " [3.         0.75       0.42857143 0.3        0.23076923 0.1875    ]]\n",
            "1 th leading minor of M = 3.0000000000000004\n",
            "2 th leading minor of M = 0.0\n",
            "3 th leading minor of M = -8.03305785123967\n",
            "4 th leading minor of M = -0.4935101061624751\n",
            "5 th leading minor of M = 0.0009030145201488282\n",
            "6 th leading minor of M = 2.3183841673928285e-08\n",
            "determinant of A = 2.3183841673928285e-08\n"
          ]
        },
        {
          "data": {
            "text/plain": [
              "(True, False)"
            ]
          },
          "execution_count": 11,
          "metadata": {},
          "output_type": "execute_result"
        }
      ],
      "source": [
        "def leading_minors_test(A):\n",
        "   \"\"\"\n",
        "  Function to check all leading Minors of a Matrix not equal to 0\n",
        "   \"\"\"\n",
        "  # ... ENTER YOUR CODE HERE ...\n",
        "   print(\"Check matrix A =\\n\", A)\n",
        "   result = True\n",
        "   import numpy as np\n",
        "   for i in range(1, A.shape[0] + 1):\n",
        "       sub_matrix = A[:i, :i]\n",
        "       leading_minor = np.linalg.det(sub_matrix)\n",
        "       if leading_minor == 0:\n",
        "           result = False\n",
        "       print(i, \"th leading minor of M =\", leading_minor)\n",
        "   print(\"determinant of A =\", np.linalg.det(A))\n",
        "   return result\n",
        "\n",
        "leading_minors_test(A), leading_minors_test(A1)"
      ]
    },
    {
      "cell_type": "markdown",
      "metadata": {
        "id": "Qs8AJkWd0XXQ"
      },
      "source": [
        "### Test II.2\n",
        "\n",
        "Modify the `diy_lu` routine to implement column pivoting. Keep track of pivots, you can either construct a permutation matrix, or a swap array (your choice).\n",
        "\n",
        "(40% of the grade)\n",
        "\n",
        "Implement a function to reconstruct the original matrix from a decompositon. Test your routines on the matrices `a` and `a1`.\n",
        "\n",
        "(40% of the grade)"
      ]
    },
    {
      "cell_type": "markdown",
      "metadata": {
        "id": "tUb6w3y60eyP"
      },
      "source": [
        "# 2. $LU$ factorization column pivoting and reconstruction\n",
        "When we premultply $A$ by elementary permutation matricex$P_j$( to find a good pivot) and then premultply by lower triangular elemetary matrices $\\Lambda_j$, $A$  it is transformed in an  upper triangular matrix $U$\n",
        "\n",
        "$$  \n",
        "(\\Lambda_{n-1} P_{n-1} \\ldots \\Lambda_2 P_2 \\Lambda_1 P_1)A  = U\n",
        "$$\n",
        "and\n",
        "$$  \n",
        "A  = (\\Lambda_{n-1} P_{n-1} \\ldots \\Lambda_2 P_2 \\Lambda_1 P_1)^{-1} U\n",
        "$$\n",
        "\n",
        "\n",
        "So the $LU$ column pivot factorization of $A$ is\n",
        "$$\n",
        "A = LU\n",
        "$$\n",
        "ith\n",
        "$$  \n",
        "U = (\\Lambda_{n-1} P_{n-1} \\ldots \\Lambda_2 P_2 \\Lambda_1 P_1) A\n",
        "$$\n",
        "$$\n",
        "\\begin{array}{ll}L  &=  (\\Lambda_{n-1} P_{n-1} \\ldots \\Lambda_2 P_2 \\Lambda_1 P_1)^{-1}\\\\\n",
        "&= P_1^{-1} \\Lambda_1^{-1} P_2^{-1} \\Lambda_2^{-1} \\ldots  P_{n-1}^{-1}\\\\\n",
        " &= P_1^{t} (-\\Lambda_1) P_2^{t} (-\\Lambda_2) \\ldots  P_{n-1}^{t} (-\\Lambda_{n-1})\n",
        "\\end{array}\n",
        "$$\n",
        "because the inverse a of a Lower Triangular Elemetary Matrix is minus the matrix $\\Lambda_i^{-1} = - \\Lambda_i$ and the inverse of a Permutation Matrix (in particular an elementary permutation matrix)  is its transpose [math.stackexchange](\n",
        "        https://math.stackexchange.com/questions/98549/the-transpose-of-a-permutation-matrix-is-its-inverse#:~:text=Taking%20the%20transpose%20of%20P,Pt%3DP%E2%88%921.)  $P_i^{-1}=P_i^{t}$.\n",
        "\n",
        "Note that\n",
        "$$\n",
        "L= P_1^{t} (-\\Lambda_1) P_2^{t} (-\\Lambda_2) \\ldots  P_{n-1}^{t} (-\\Lambda_{n-1})\n",
        "$$\n",
        "is not exactly a lower tiangular matrix but a row permutated lower tiangular matrix.\n",
        "\n",
        "\n",
        "\n"
      ]
    },
    {
      "cell_type": "markdown",
      "metadata": {
        "id": "nV8IGs1Zrzu6"
      },
      "source": [
        "$$PA = LU$$"
      ]
    },
    {
      "cell_type": "code",
      "execution_count": null,
      "metadata": {
        "id": "pCoZ5W-dOLPk"
      },
      "outputs": [],
      "source": [
        "def diy_lu_column_pivot_reconstruct(A):\n",
        "\n",
        "  \"\"\"Construct the LU decomposition of the input matrix.\n",
        "\n",
        "  LU decomposition with pivot: work column by column, accumulate elementary triangular matrices L @ np.transpose(Pj) .\n",
        "  \"\"\"\n",
        "  # ... ENTER YOUR CODE HERE ...\n",
        "  N = A.shape[0]\n",
        "  u = A.copy()  # Crear una copia de la matriz original\n",
        "  L = np.eye(N)  # Inicializar L como la matriz identidad\n",
        "  P = np.eye(N)  # Inicializar P como la matriz identidad\n",
        "\n",
        "  for x in range(N-1):\n",
        "      # Encontrar el pivote para la columna actual\n",
        "      valor_pivote = 0\n",
        "      indice_pivote = -1\n",
        "      # Pivoteo en la matriz u por fila\n",
        "      for fila in range(x, len(u)):\n",
        "          if np.abs(u[fila][x]) > valor_pivote:\n",
        "              valor_pivote = np.abs(u[fila][x])\n",
        "              indice_pivote = fila\n",
        "\n",
        "      if valor_pivote != 0:\n",
        "          # Realizar intercambio de filas en las matrices L, u y P para el pivote seleccionado\n",
        "\n",
        "          # Crear copias de seguridad de las matrices originales\n",
        "          u_copia = u.copy()\n",
        "          L_copia = L.copy()\n",
        "          P_temp = np.eye(N)\n",
        "          P_copia = P_temp.copy()\n",
        "\n",
        "          # Reemplazar las filas correspondientes en las matrices L, u y P por las filas pivote\n",
        "          L[x, :x], L[indice_pivote, :x] = L_copia[indice_pivote, :x], L_copia[x, :x]\n",
        "          u[x], u[indice_pivote] = u_copia[indice_pivote], u_copia[x]\n",
        "          P_temp[x], P_temp[indice_pivote] = P_copia[indice_pivote], P_copia[x]\n",
        "\n",
        "          # Actualizar la matriz P multiplicándola por la matriz identidad permutada temporalmente\n",
        "          P = P @ P_temp\n",
        "\n",
        "      # Crear una matriz identidad temporal\n",
        "      lam = np.eye(N)\n",
        "      # Calcular el valor gamma\n",
        "      gamma = u[x+1:, x] / u[x, x]\n",
        "      # Asignar el valor -gamma en la matriz identidad temporal\n",
        "      lam[x+1:, x] = -gamma\n",
        "      # Multiplicar la matriz u por la matriz identidad temporal con valor -gamma\n",
        "      u = lam @ u\n",
        "      # Asignar el valor gamma en la matriz identidad temporal\n",
        "      lam[x+1:, x] = gamma\n",
        "      # Multiplicar la matriz L por la matriz identidad temporal con valor gamma\n",
        "      L = L @ lam\n",
        "\n",
        "  return P, L, u\n"
      ]
    },
    {
      "cell_type": "code",
      "execution_count": null,
      "metadata": {
        "colab": {
          "base_uri": "https://localhost:8080/"
        },
        "id": "fhVlk2aj1Ux5",
        "outputId": "e09950e9-f367-4716-b98d-dabc9f9f1ee8"
      },
      "outputs": [
        {
          "name": "stdout",
          "output_type": "stream",
          "text": [
            "P\n",
            " [[0. 0. 1.]\n",
            " [0. 1. 0.]\n",
            " [1. 0. 0.]] \n",
            "\n",
            "L\n",
            " [[ 1.          0.          0.        ]\n",
            " [ 0.55555556  1.          0.        ]\n",
            " [ 0.44444444 -0.5         1.        ]] \n",
            "\n",
            "U\n",
            " [[ 9.          9.          3.        ]\n",
            " [ 0.          2.         -1.66666667]\n",
            " [ 0.          0.         -1.16666667]] \n",
            "\n",
            "A= P@L@U\n",
            " [[4. 3. 1.]\n",
            " [5. 7. 0.]\n",
            " [9. 9. 3.]] \n",
            "\n",
            "A\n",
            " [[4 3 1]\n",
            " [5 7 0]\n",
            " [9 9 3]] \n",
            "\n",
            "L@u - A\n",
            " [[0. 0. 0.]\n",
            " [0. 0. 0.]\n",
            " [0. 0. 0.]] \n",
            "\n"
          ]
        }
      ],
      "source": [
        "A = np.array([[4,3,1], [5,7,0], [9,9,3]])\n",
        "\n",
        "P, L, U, = diy_lu_column_pivot_reconstruct(A)\n",
        "\n",
        "print(\"P\\n\",P, \"\\n\")\n",
        "print(\"L\\n\",L, \"\\n\")\n",
        "print(\"U\\n\",U, \"\\n\")\n",
        "print(\"A= P@L@U\\n\", P@L@U, \"\\n\")\n",
        "print(\"A\\n\",A, \"\\n\")\n",
        "\n",
        "# Quick sanity check: L times U must equal the original matrix, up to floating-point errors.\n",
        "print(\"L@u - A\\n\",np.round(P@L@U-A,3), \"\\n\")"
      ]
    },
    {
      "cell_type": "code",
      "execution_count": null,
      "metadata": {
        "colab": {
          "base_uri": "https://localhost:8080/"
        },
        "id": "KY0N7EG_xAaP",
        "outputId": "ac838fb4-fe1b-41b3-fa19-cea1383ded42"
      },
      "outputs": [
        {
          "name": "stdout",
          "output_type": "stream",
          "text": [
            "P\n",
            " [[0. 0. 1.]\n",
            " [0. 1. 0.]\n",
            " [1. 0. 0.]] \n",
            "\n",
            "L\n",
            " [[ 1.          0.          0.        ]\n",
            " [ 0.55555556  1.          0.        ]\n",
            " [ 0.44444444 -0.5         1.        ]] \n",
            "\n",
            "U\n",
            " [[ 9.          9.          3.        ]\n",
            " [ 0.          2.         -1.66666667]\n",
            " [ 0.          0.         -1.16666667]] \n",
            "\n",
            "A= P@L@U\n",
            " [[4. 3. 1.]\n",
            " [5. 7. 0.]\n",
            " [9. 9. 3.]] \n",
            "\n",
            "A\n",
            " [[4 3 1]\n",
            " [5 7 0]\n",
            " [9 9 3]] \n",
            "\n",
            "L@u - A\n",
            " [[0. 0. 0.]\n",
            " [0. 0. 0.]\n",
            " [0. 0. 0.]] \n",
            "\n"
          ]
        }
      ],
      "source": [
        "from scipy import linalg\n",
        "\n",
        "A = np.array([[4,3,1], [5,7,0], [9,9,3]])\n",
        "\n",
        "P,L,U = linalg.lu(A)\n",
        "\n",
        "print(\"P\\n\",P, \"\\n\")\n",
        "print(\"L\\n\",L, \"\\n\")\n",
        "print(\"U\\n\",U, \"\\n\")\n",
        "print(\"A= P@L@U\\n\", P@L@U, \"\\n\")\n",
        "print(\"A\\n\",A, \"\\n\")\n",
        "\n",
        "# Quick sanity check: L times U must equal the original matrix, up to floating-point errors.\n",
        "print(\"L@u - A\\n\",np.round(P@L@U-A,3), \"\\n\")"
      ]
    },
    {
      "cell_type": "code",
      "execution_count": null,
      "metadata": {
        "colab": {
          "base_uri": "https://localhost:8080/"
        },
        "id": "XIpfRzl21IDH",
        "outputId": "10f32ccf-5770-4534-8b49-8d60367dfff5"
      },
      "outputs": [
        {
          "name": "stdout",
          "output_type": "stream",
          "text": [
            "P\n",
            " [[1. 0. 0. 0. 0. 0.]\n",
            " [0. 0. 1. 0. 0. 0.]\n",
            " [0. 0. 0. 1. 0. 0.]\n",
            " [0. 0. 0. 0. 1. 0.]\n",
            " [0. 0. 0. 0. 0. 1.]\n",
            " [0. 1. 0. 0. 0. 0.]] \n",
            "\n",
            "L\n",
            " [[1.         0.         0.         0.         0.         0.        ]\n",
            " [1.         1.         0.         0.         0.         0.        ]\n",
            " [1.         0.5        1.         0.         0.         0.        ]\n",
            " [1.         0.72727273 0.70588235 1.         0.         0.        ]\n",
            " [1.         0.85714286 0.40993789 0.83482143 1.         0.        ]\n",
            " [1.         0.94117647 0.17849899 0.4255677  0.78870221 1.        ]] \n",
            "\n",
            "U\n",
            " [[ 3.00000000e+00  3.00000000e+00  3.00000000e+00  3.00000000e+00\n",
            "   3.00000000e+00  3.00000000e+00]\n",
            " [ 0.00000000e+00 -2.25000000e+00 -2.57142857e+00 -2.70000000e+00\n",
            "  -2.76923077e+00 -2.81250000e+00]\n",
            " [ 0.00000000e+00  0.00000000e+00 -3.50649351e-01 -5.78571429e-01\n",
            "  -7.33031674e-01 -8.43750000e-01]\n",
            " [ 0.00000000e+00  0.00000000e+00  2.77555756e-17  2.42136380e-02\n",
            "   4.86615163e-02  6.96142093e-02]\n",
            " [ 0.00000000e+00  2.22044605e-16 -2.31709493e-17  0.00000000e+00\n",
            "  -6.46187856e-04 -1.51605479e-03]\n",
            " [ 0.00000000e+00 -1.75127070e-16  6.46310228e-18  0.00000000e+00\n",
            "   0.00000000e+00  6.73010748e-06]] \n",
            "\n",
            "A= P@L@U\n",
            " [[3.         3.         3.         3.         3.         3.        ]\n",
            " [3.         1.875      1.36363636 1.07142857 0.88235294 0.75      ]\n",
            " [3.         1.36363636 0.88235294 0.65217391 0.51724138 0.42857143]\n",
            " [3.         1.07142857 0.65217391 0.46875    0.36585366 0.3       ]\n",
            " [3.         0.88235294 0.51724138 0.36585366 0.28301887 0.23076923]\n",
            " [3.         0.75       0.42857143 0.3        0.23076923 0.1875    ]] \n",
            "\n",
            "A\n",
            " [[3.         3.         3.         3.         3.         3.        ]\n",
            " [3.         1.875      1.36363636 1.07142857 0.88235294 0.75      ]\n",
            " [3.         1.36363636 0.88235294 0.65217391 0.51724138 0.42857143]\n",
            " [3.         1.07142857 0.65217391 0.46875    0.36585366 0.3       ]\n",
            " [3.         0.88235294 0.51724138 0.36585366 0.28301887 0.23076923]\n",
            " [3.         0.75       0.42857143 0.3        0.23076923 0.1875    ]] \n",
            "\n",
            "L@u - A\n",
            " [[ 0.  0.  0.  0.  0.  0.]\n",
            " [ 0.  0.  0.  0.  0.  0.]\n",
            " [ 0.  0.  0.  0.  0. -0.]\n",
            " [ 0.  0.  0. -0. -0. -0.]\n",
            " [ 0.  0.  0.  0.  0.  0.]\n",
            " [ 0.  0. -0. -0.  0.  0.]] \n",
            "\n"
          ]
        }
      ],
      "source": [
        "N = 6\n",
        "A = np.zeros((N, N), dtype=float)\n",
        "for i in range(N):\n",
        "    for j in range(N):\n",
        "        A[i, j] = 3. / (0.6*i*j + 1)\n",
        "\n",
        "P, L, U, = diy_lu_column_pivot_reconstruct(A)\n",
        "\n",
        "print(\"P\\n\",P, \"\\n\")\n",
        "print(\"L\\n\",L, \"\\n\")\n",
        "print(\"U\\n\",U, \"\\n\")\n",
        "print(\"A= P@L@U\\n\", P@L@U, \"\\n\")\n",
        "print(\"A\\n\",A, \"\\n\")\n",
        "\n",
        "# Quick sanity check: L times U must equal the original matrix, up to floating-point errors.\n",
        "print(\"L@u - A\\n\",np.round(P@L@U-A,3), \"\\n\")\n",
        "\n",
        "\n"
      ]
    },
    {
      "cell_type": "code",
      "execution_count": null,
      "metadata": {
        "colab": {
          "base_uri": "https://localhost:8080/"
        },
        "id": "acLrGb5y4aZl",
        "outputId": "c7436d95-a5fb-4a5a-852a-50eaf4cbf2d0"
      },
      "outputs": [
        {
          "name": "stdout",
          "output_type": "stream",
          "text": [
            "P\n",
            " [[1. 0. 0. 0. 0. 0.]\n",
            " [0. 0. 1. 0. 0. 0.]\n",
            " [0. 0. 0. 1. 0. 0.]\n",
            " [0. 0. 0. 0. 1. 0.]\n",
            " [0. 0. 0. 0. 0. 1.]\n",
            " [0. 1. 0. 0. 0. 0.]] \n",
            "\n",
            "L\n",
            " [[1.         0.         0.         0.         0.         0.        ]\n",
            " [1.         1.         0.         0.         0.         0.        ]\n",
            " [1.         0.5        1.         0.         0.         0.        ]\n",
            " [1.         0.72727273 0.70588235 1.         0.         0.        ]\n",
            " [1.         0.85714286 0.40993789 0.83482143 1.         0.        ]\n",
            " [1.         0.94117647 0.17849899 0.4255677  0.78870221 1.        ]] \n",
            "\n",
            "U\n",
            " [[ 3.00000000e+00  3.00000000e+00  3.00000000e+00  3.00000000e+00\n",
            "   3.00000000e+00  3.00000000e+00]\n",
            " [ 0.00000000e+00 -2.25000000e+00 -2.57142857e+00 -2.70000000e+00\n",
            "  -2.76923077e+00 -2.81250000e+00]\n",
            " [ 0.00000000e+00  0.00000000e+00 -3.50649351e-01 -5.78571429e-01\n",
            "  -7.33031674e-01 -8.43750000e-01]\n",
            " [ 0.00000000e+00  0.00000000e+00  0.00000000e+00  2.42136380e-02\n",
            "   4.86615163e-02  6.96142093e-02]\n",
            " [ 0.00000000e+00  0.00000000e+00  0.00000000e+00  0.00000000e+00\n",
            "  -6.46187856e-04 -1.51605479e-03]\n",
            " [ 0.00000000e+00  0.00000000e+00  0.00000000e+00  0.00000000e+00\n",
            "   0.00000000e+00  6.73010748e-06]] \n",
            "\n",
            "A= P@L@U\n",
            " [[3.         3.         3.         3.         3.         3.        ]\n",
            " [3.         1.875      1.36363636 1.07142857 0.88235294 0.75      ]\n",
            " [3.         1.36363636 0.88235294 0.65217391 0.51724138 0.42857143]\n",
            " [3.         1.07142857 0.65217391 0.46875    0.36585366 0.3       ]\n",
            " [3.         0.88235294 0.51724138 0.36585366 0.28301887 0.23076923]\n",
            " [3.         0.75       0.42857143 0.3        0.23076923 0.1875    ]] \n",
            "\n",
            "A\n",
            " [[3.         3.         3.         3.         3.         3.        ]\n",
            " [3.         1.875      1.36363636 1.07142857 0.88235294 0.75      ]\n",
            " [3.         1.36363636 0.88235294 0.65217391 0.51724138 0.42857143]\n",
            " [3.         1.07142857 0.65217391 0.46875    0.36585366 0.3       ]\n",
            " [3.         0.88235294 0.51724138 0.36585366 0.28301887 0.23076923]\n",
            " [3.         0.75       0.42857143 0.3        0.23076923 0.1875    ]] \n",
            "\n",
            "L@u - A\n",
            " [[ 0.  0.  0.  0.  0.  0.]\n",
            " [ 0.  0.  0.  0.  0.  0.]\n",
            " [ 0.  0.  0.  0.  0. -0.]\n",
            " [ 0.  0.  0.  0.  0. -0.]\n",
            " [ 0.  0.  0.  0.  0. -0.]\n",
            " [ 0.  0. -0. -0.  0.  0.]] \n",
            "\n"
          ]
        }
      ],
      "source": [
        "from scipy import linalg\n",
        "\n",
        "P,L,U = linalg.lu(A)\n",
        "\n",
        "print(\"P\\n\",P, \"\\n\")\n",
        "print(\"L\\n\",L, \"\\n\")\n",
        "print(\"U\\n\",U, \"\\n\")\n",
        "print(\"A= P@L@U\\n\", P@L@U, \"\\n\")\n",
        "print(\"A\\n\",A, \"\\n\")\n",
        "\n",
        "# Quick sanity check: L times U must equal the original matrix, up to floating-point errors.\n",
        "print(\"L@u - A\\n\",np.round(P@L@U-A,3), \"\\n\")"
      ]
    },
    {
      "cell_type": "code",
      "execution_count": null,
      "metadata": {
        "colab": {
          "base_uri": "https://localhost:8080/"
        },
        "id": "Ea5i2TSF1RPx",
        "outputId": "d4a6aecf-f007-4754-d54f-290f671fccc2"
      },
      "outputs": [
        {
          "name": "stdout",
          "output_type": "stream",
          "text": [
            "P\n",
            " [[1. 0. 0. 0. 0. 0.]\n",
            " [0. 0. 1. 0. 0. 0.]\n",
            " [0. 0. 0. 1. 0. 0.]\n",
            " [0. 0. 0. 0. 1. 0.]\n",
            " [0. 0. 0. 0. 0. 1.]\n",
            " [0. 1. 0. 0. 0. 0.]] \n",
            "\n",
            "L\n",
            " [[1.         0.         0.         0.         0.         0.        ]\n",
            " [1.         1.         0.         0.         0.         0.        ]\n",
            " [1.         0.         1.         0.         0.         0.        ]\n",
            " [1.         0.72727273 0.1512605  1.         0.         0.        ]\n",
            " [1.         0.85714286 0.08784383 0.51421669 1.         0.        ]\n",
            " [1.         0.94117647 0.03824978 0.2076544  0.64143198 1.        ]] \n",
            "\n",
            "U\n",
            " [[ 3.00000000e+00  3.00000000e+00  3.00000000e+00  3.00000000e+00\n",
            "   3.00000000e+00  3.00000000e+00]\n",
            " [ 0.00000000e+00 -2.25000000e+00 -2.57142857e+00 -2.70000000e+00\n",
            "  -2.76923077e+00 -2.81250000e+00]\n",
            " [ 0.00000000e+00  0.00000000e+00 -1.63636364e+00 -1.92857143e+00\n",
            "  -2.11764706e+00 -2.25000000e+00]\n",
            " [ 0.00000000e+00  0.00000000e+00  2.77555756e-17 -9.24730366e-02\n",
            "  -1.48456245e-01 -1.85637892e-01]\n",
            " [ 0.00000000e+00  2.22044605e-16 -1.42723802e-17  0.00000000e+00\n",
            "   1.84094605e-03  3.82101258e-03]\n",
            " [ 0.00000000e+00 -1.42426510e-16  3.39119367e-18  0.00000000e+00\n",
            "   0.00000000e+00 -1.23295047e-05]] \n",
            "\n",
            "A= P@L@U\n",
            " [[3.         3.         3.         3.         3.         3.        ]\n",
            " [3.         3.         1.36363636 1.07142857 0.88235294 0.75      ]\n",
            " [3.         1.36363636 0.88235294 0.65217391 0.51724138 0.42857143]\n",
            " [3.         1.07142857 0.65217391 0.46875    0.36585366 0.3       ]\n",
            " [3.         0.88235294 0.51724138 0.36585366 0.28301887 0.23076923]\n",
            " [3.         0.75       0.42857143 0.3        0.23076923 0.1875    ]] \n",
            "\n",
            "A\n",
            " [[3.         3.         3.         3.         3.         3.        ]\n",
            " [3.         3.         1.36363636 1.07142857 0.88235294 0.75      ]\n",
            " [3.         1.36363636 0.88235294 0.65217391 0.51724138 0.42857143]\n",
            " [3.         1.07142857 0.65217391 0.46875    0.36585366 0.3       ]\n",
            " [3.         0.88235294 0.51724138 0.36585366 0.28301887 0.23076923]\n",
            " [3.         0.75       0.42857143 0.3        0.23076923 0.1875    ]] \n",
            "\n",
            "L@u - A\n",
            " [[ 0.  0.  0.  0.  0.  0.]\n",
            " [ 0.  0.  0.  0.  0.  0.]\n",
            " [ 0.  0.  0.  0.  0. -0.]\n",
            " [ 0.  0.  0. -0. -0. -0.]\n",
            " [ 0.  0.  0.  0.  0. -0.]\n",
            " [ 0.  0. -0. -0.  0.  0.]] \n",
            "\n"
          ]
        }
      ],
      "source": [
        "A[1, 1] = 3\n",
        "\n",
        "P, L, U, = diy_lu_column_pivot_reconstruct(A1)\n",
        "\n",
        "print(\"P\\n\",P, \"\\n\")\n",
        "print(\"L\\n\",L, \"\\n\")\n",
        "print(\"U\\n\",U, \"\\n\")\n",
        "print(\"A= P@L@U\\n\", P@L@U, \"\\n\")\n",
        "print(\"A\\n\",A, \"\\n\")\n",
        "\n",
        "# Quick sanity check: L times U must equal the original matrix, up to floating-point errors.\n",
        "print(\"L@u - A\\n\",np.round(P@L@U-A,3), \"\\n\")"
      ]
    },
    {
      "cell_type": "code",
      "execution_count": null,
      "metadata": {
        "colab": {
          "base_uri": "https://localhost:8080/"
        },
        "id": "6odsHUNwqGzD",
        "outputId": "d1603a22-8e88-49ac-df00-7a6e8ecef8f1"
      },
      "outputs": [
        {
          "name": "stdout",
          "output_type": "stream",
          "text": [
            "P\n",
            " [[1. 0. 0. 0. 0. 0.]\n",
            " [0. 0. 1. 0. 0. 0.]\n",
            " [0. 0. 0. 1. 0. 0.]\n",
            " [0. 0. 0. 0. 1. 0.]\n",
            " [0. 0. 0. 0. 0. 1.]\n",
            " [0. 1. 0. 0. 0. 0.]] \n",
            "\n",
            "L\n",
            " [[ 1.          0.          0.          0.          0.          0.        ]\n",
            " [ 1.          1.          0.          0.          0.          0.        ]\n",
            " [ 1.         -0.          1.          0.          0.          0.        ]\n",
            " [ 1.          0.72727273  0.1512605   1.          0.          0.        ]\n",
            " [ 1.          0.85714286  0.08784383  0.51421669  1.          0.        ]\n",
            " [ 1.          0.94117647  0.03824978  0.2076544   0.64143198  1.        ]] \n",
            "\n",
            "U\n",
            " [[ 3.00000000e+00  3.00000000e+00  3.00000000e+00  3.00000000e+00\n",
            "   3.00000000e+00  3.00000000e+00]\n",
            " [ 0.00000000e+00 -2.25000000e+00 -2.57142857e+00 -2.70000000e+00\n",
            "  -2.76923077e+00 -2.81250000e+00]\n",
            " [ 0.00000000e+00  0.00000000e+00 -1.63636364e+00 -1.92857143e+00\n",
            "  -2.11764706e+00 -2.25000000e+00]\n",
            " [ 0.00000000e+00  0.00000000e+00  0.00000000e+00 -9.24730366e-02\n",
            "  -1.48456245e-01 -1.85637892e-01]\n",
            " [ 0.00000000e+00  0.00000000e+00  0.00000000e+00  0.00000000e+00\n",
            "   1.84094605e-03  3.82101258e-03]\n",
            " [ 0.00000000e+00  0.00000000e+00  0.00000000e+00  0.00000000e+00\n",
            "   0.00000000e+00 -1.23295047e-05]] \n",
            "\n",
            "A= P@L@U\n",
            " [[3.         3.         3.         3.         3.         3.        ]\n",
            " [3.         3.         1.36363636 1.07142857 0.88235294 0.75      ]\n",
            " [3.         1.36363636 0.88235294 0.65217391 0.51724138 0.42857143]\n",
            " [3.         1.07142857 0.65217391 0.46875    0.36585366 0.3       ]\n",
            " [3.         0.88235294 0.51724138 0.36585366 0.28301887 0.23076923]\n",
            " [3.         0.75       0.42857143 0.3        0.23076923 0.1875    ]] \n",
            "\n",
            "A\n",
            " [[3.         3.         3.         3.         3.         3.        ]\n",
            " [3.         3.         1.36363636 1.07142857 0.88235294 0.75      ]\n",
            " [3.         1.36363636 0.88235294 0.65217391 0.51724138 0.42857143]\n",
            " [3.         1.07142857 0.65217391 0.46875    0.36585366 0.3       ]\n",
            " [3.         0.88235294 0.51724138 0.36585366 0.28301887 0.23076923]\n",
            " [3.         0.75       0.42857143 0.3        0.23076923 0.1875    ]] \n",
            "\n",
            "L@u - A\n",
            " [[ 0.  0.  0.  0.  0.  0.]\n",
            " [ 0.  0.  0.  0.  0.  0.]\n",
            " [ 0.  0.  0.  0.  0. -0.]\n",
            " [ 0.  0.  0.  0.  0.  0.]\n",
            " [ 0.  0.  0.  0.  0. -0.]\n",
            " [ 0.  0. -0. -0.  0.  0.]] \n",
            "\n"
          ]
        }
      ],
      "source": [
        "from scipy import linalg\n",
        "\n",
        "P,L,U = linalg.lu(A)\n",
        "\n",
        "print(\"P\\n\",P, \"\\n\")\n",
        "print(\"L\\n\",L, \"\\n\")\n",
        "print(\"U\\n\",U, \"\\n\")\n",
        "print(\"A= P@L@U\\n\", P@L@U, \"\\n\")\n",
        "print(\"A\\n\",A, \"\\n\")\n",
        "\n",
        "# Quick sanity check: L times U must equal the original matrix, up to floating-point errors.\n",
        "print(\"L@u - A\\n\",np.round(P@L@U-A,3), \"\\n\")"
      ]
    }
  ],
  "metadata": {
    "colab": {
      "provenance": []
    },
    "kernelspec": {
      "display_name": "Python 3",
      "name": "python3"
    }
  },
  "nbformat": 4,
  "nbformat_minor": 0
}
